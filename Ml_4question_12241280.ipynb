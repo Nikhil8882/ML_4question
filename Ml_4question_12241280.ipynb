{
  "nbformat": 4,
  "nbformat_minor": 0,
  "metadata": {
    "colab": {
      "provenance": []
    },
    "kernelspec": {
      "name": "python3",
      "display_name": "Python 3"
    },
    "language_info": {
      "name": "python"
    }
  },
  "cells": [
    {
      "cell_type": "code",
      "execution_count": 3,
      "metadata": {
        "colab": {
          "base_uri": "https://localhost:8080/"
        },
        "id": "yxYFWJlAxVAl",
        "outputId": "b5907fc7-e652-4e37-d094-c57da78ad757"
      },
      "outputs": [
        {
          "output_type": "stream",
          "name": "stdout",
          "text": [
            "   fixed acidity  volatile acidity  citric acid  residual sugar  chlorides  \\\n",
            "0       0.247788          0.397260         0.00        0.068493   0.106845   \n",
            "1       0.283186          0.520548         0.00        0.116438   0.143573   \n",
            "2       0.283186          0.438356         0.04        0.095890   0.133556   \n",
            "3       0.584071          0.109589         0.56        0.068493   0.105175   \n",
            "4       0.247788          0.397260         0.00        0.068493   0.106845   \n",
            "\n",
            "   free sulfur dioxide  total sulfur dioxide   density        pH  sulphates  \\\n",
            "0             0.149254              0.098940  0.567548  0.606299   0.137725   \n",
            "1             0.358209              0.215548  0.494126  0.362205   0.209581   \n",
            "2             0.208955              0.169611  0.508811  0.409449   0.191617   \n",
            "3             0.238806              0.190813  0.582232  0.330709   0.149701   \n",
            "4             0.149254              0.098940  0.567548  0.606299   0.137725   \n",
            "\n",
            "    alcohol  quality  Id  \n",
            "0  0.153846        0   0  \n",
            "1  0.215385        0   1  \n",
            "2  0.215385        0   2  \n",
            "3  0.215385        0   3  \n",
            "4  0.153846        0   4  \n"
          ]
        }
      ],
      "source": [
        "import pandas as pd\n",
        "data = pd.read_csv(\"WineQT.csv\")\n",
        "data.head()\n",
        "data['quality'] = data['quality'].apply(lambda x: 0 if x <= 6 else 1)\n",
        "data.head(20)\n",
        "from sklearn.preprocessing import MinMaxScaler\n",
        "scaler = MinMaxScaler()\n",
        " #Select the columns to scale (all columns except 'quality' and 'Id')\n",
        "columns_to_scale = ['fixed acidity', 'volatile acidity', 'citric acid', 'residual sugar',\n",
        "                    'chlorides', 'free sulfur dioxide', 'total sulfur dioxide',\n",
        "                    'density', 'pH', 'sulphates', 'alcohol']\n",
        "\n",
        "# Apply Min-Max scaling to the selected columns\n",
        "data[columns_to_scale] = scaler.fit_transform(data[columns_to_scale])\n",
        "\n",
        "# Print the first few rows of the scaled data\n",
        "print(data.head())\n"
      ]
    },
    {
      "cell_type": "markdown",
      "source": [
        "# New Section"
      ],
      "metadata": {
        "id": "91KaM5qExovx"
      }
    },
    {
      "cell_type": "markdown",
      "source": [
        "# New Section"
      ],
      "metadata": {
        "id": "Txi-D1w7xqNd"
      }
    }
  ]
}